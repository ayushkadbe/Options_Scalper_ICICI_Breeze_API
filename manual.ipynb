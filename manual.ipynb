{
 "cells": [
  {
   "cell_type": "code",
   "execution_count": 1,
   "id": "5b9497e9-a14e-480a-a0e9-18efa6fd996d",
   "metadata": {},
   "outputs": [
    {
     "data": {
      "text/plain": [
       "{'message': 'Order Notification subscribed successfully'}"
      ]
     },
     "execution_count": 1,
     "metadata": {},
     "output_type": "execute_result"
    }
   ],
   "source": [
    "import login as l\n",
    "from datetime import datetime\n",
    "from breeze_connect import BreezeConnect\n",
    "\n",
    "# Initialize SDK\n",
    "breeze = BreezeConnect(api_key=l.api_key)\n",
    "\n",
    "# Generate Session\n",
    "breeze.generate_session(api_secret=l.secret_key,\n",
    "                            session_token=l.session_key)\n",
    "\n",
    "# Connect to websocket(it will connect to tick-by-tick data server)\n",
    "breeze.ws_connect()\n",
    "\n",
    "def on_ticks():\n",
    "        #Ordebook & Order Status callback to receive ticks\n",
    "        if('sourceNumber' in ticks.keys()):\n",
    "            status = ticks['orderStatus']\n",
    "            order_id = ticks['orderReference']\n",
    "            action = ticks['orderFlow']\n",
    "            name = ticks['stockCode'] + ' | ' + ticks['expiryDate'] + ' | ' + ticks['strikePrice'] + ' | ' + ticks['optionType']\n",
    "            \n",
    "            print(f\"ID : {order_id}\\nAction : {action} {name}\\nStatus : {status}\\n\")     #prints only order list\n",
    "\n",
    "# Assign the callbacks.\n",
    "breeze.on_ticks = on_ticks\n",
    "\n",
    "breeze.subscribe_feeds(get_order_notification=True)  "
   ]
  },
  {
   "cell_type": "code",
   "execution_count": 2,
   "id": "d73cac40-a7ba-4241-9172-7ce615a04f84",
   "metadata": {},
   "outputs": [
    {
     "data": {
      "text/plain": [
       "{'Success': {'bank_account': '39478995811',\n",
       "  'total_bank_balance': 3227.0099999999998,\n",
       "  'allocated_equity': 0.43,\n",
       "  'allocated_fno': 3226.58,\n",
       "  'block_by_trade_equity': 0.0,\n",
       "  'block_by_trade_fno': 0.0,\n",
       "  'block_by_trade_balance': 0.0,\n",
       "  'unallocated_balance': '0'},\n",
       " 'Status': 200,\n",
       " 'Error': None}"
      ]
     },
     "execution_count": 2,
     "metadata": {},
     "output_type": "execute_result"
    }
   ],
   "source": [
    "breeze.get_funds()"
   ]
  },
  {
   "cell_type": "code",
   "execution_count": 3,
   "id": "48ece3e1-5faf-403b-98b7-5aaeba4da987",
   "metadata": {},
   "outputs": [],
   "source": [
    "def get_spot_price(stock):\n",
    "    try:\n",
    "        spot = breeze.get_quotes(stock_code=stock, exchange_code=\"NSE\")['Success'][0]['ltp']\n",
    "        print(f\"SPOT: {spot}\")\n",
    "        return spot\n",
    "    except Exception as e:\n",
    "        print(f\"API Error\\n{e}\\n\")"
   ]
  },
  {
   "cell_type": "code",
   "execution_count": 5,
   "id": "8bdcd4b0-935c-4801-87ca-2455b317557d",
   "metadata": {},
   "outputs": [
    {
     "name": "stdout",
     "output_type": "stream",
     "text": [
      "SPOT: 21826.85\n"
     ]
    },
    {
     "data": {
      "text/plain": [
       "21826.85"
      ]
     },
     "execution_count": 5,
     "metadata": {},
     "output_type": "execute_result"
    }
   ],
   "source": [
    "spotprice = get_spot_price('NIFTY')\n",
    "spotprice"
   ]
  },
  {
   "cell_type": "code",
   "execution_count": 6,
   "id": "74ec52e7-7097-4e28-9cbb-17cf5942b588",
   "metadata": {},
   "outputs": [
    {
     "data": {
      "text/plain": [
       "21821.85"
      ]
     },
     "execution_count": 6,
     "metadata": {},
     "output_type": "execute_result"
    }
   ],
   "source": [
    "slprice =spotprice - 5\n",
    "slprice"
   ]
  },
  {
   "cell_type": "code",
   "execution_count": 7,
   "id": "a69a3a4a-8014-4405-ba0e-b21680cce2fd",
   "metadata": {},
   "outputs": [],
   "source": [
    "def get_atm_strike(stock):\n",
    "    try:\n",
    "        spot = breeze.get_quotes(stock_code=stock, exchange_code=\"NSE\")['Success'][0]['ltp'] #get spot value\n",
    "        atm_strike = 50 * (round(spot / 50))    #Calculate nearest strike price\n",
    "        print(f\"SPOT: {spot} | ATM_STRIKE : {atm_strike}\")\n",
    "        return atm_strike\n",
    "    except Exception as e:\n",
    "        print(f\"API Error\\n{e}\\n\")"
   ]
  },
  {
   "cell_type": "code",
   "execution_count": 8,
   "id": "aba4f521-9be5-4e14-ad24-b692c2efa72f",
   "metadata": {},
   "outputs": [
    {
     "name": "stdout",
     "output_type": "stream",
     "text": [
      "SPOT: 21826.6 | ATM_STRIKE : 21850 | STOPLOSS : 21831.6\n"
     ]
    },
    {
     "data": {
      "text/plain": [
       "(21850, 21831.6)"
      ]
     },
     "execution_count": 8,
     "metadata": {},
     "output_type": "execute_result"
    }
   ],
   "source": [
    "atmstrike = get_atm_strike('NIFTY')\n",
    "atmstrike"
   ]
  },
  {
   "cell_type": "code",
   "execution_count": 9,
   "id": "8a1dc197-517a-4813-925e-354a466fcc08",
   "metadata": {},
   "outputs": [],
   "source": [
    "def get_expiry_dates(STOCK, STRIKE):\n",
    "    try:\n",
    "        expiry_dates_response = breeze.get_option_chain_quotes(\n",
    "                                    stock_code=STOCK.upper(),\n",
    "                                    exchange_code=\"NFO\",\n",
    "                                    product_type=\"options\",\n",
    "                                    expiry_date=\"\",\n",
    "                                    right=\"call\",\n",
    "                                    strike_price=STRIKE)\n",
    "        \n",
    "        if expiry_dates_response['Status'] == 200:\n",
    "            expiry_dates = [expiry_dates_response['Success'][i]['expiry_date'] for i in range(len(expiry_dates_response['Success']))]\n",
    "            return expiry_dates  # get list of all expiry for given stock and strike\n",
    "        else:\n",
    "            print(f'API Error\\n{expiry_dates_response}')\n",
    "    except Exception as e:\n",
    "        print(f'API Error\\n{e}\\n')\n"
   ]
  },
  {
   "cell_type": "code",
   "execution_count": 10,
   "id": "2344a5f9-251a-48d4-8f28-9659728b7a20",
   "metadata": {},
   "outputs": [
    {
     "name": "stdout",
     "output_type": "stream",
     "text": [
      "SPOT: 21826.6 | ATM_STRIKE : 21850 | STOPLOSS : 21831.6\n",
      "API Error\n",
      "'Status'\n",
      "\n"
     ]
    }
   ],
   "source": [
    "expiry_dates = get_expiry_dates('NIFTY', get_atm_strike('NIFTY'))\n",
    "expiry_dates"
   ]
  },
  {
   "cell_type": "code",
   "execution_count": 11,
   "id": "ac445b48-f485-4c08-addb-39e6f844a543",
   "metadata": {},
   "outputs": [
    {
     "ename": "TypeError",
     "evalue": "'NoneType' object is not subscriptable",
     "output_type": "error",
     "traceback": [
      "\u001b[1;31m---------------------------------------------------------------------------\u001b[0m",
      "\u001b[1;31mTypeError\u001b[0m                                 Traceback (most recent call last)",
      "Cell \u001b[1;32mIn[11], line 1\u001b[0m\n\u001b[1;32m----> 1\u001b[0m current_expiry \u001b[38;5;241m=\u001b[39m \u001b[43mexpiry_dates\u001b[49m\u001b[43m[\u001b[49m\u001b[38;5;241;43m0\u001b[39;49m\u001b[43m]\u001b[49m\n\u001b[0;32m      2\u001b[0m current_expiry\n",
      "\u001b[1;31mTypeError\u001b[0m: 'NoneType' object is not subscriptable"
     ]
    }
   ],
   "source": [
    "current_expiry = expiry_dates[0]\n",
    "current_expiry"
   ]
  },
  {
   "cell_type": "code",
   "execution_count": null,
   "id": "53c2821f-1fcc-4b2f-9e12-0532179750f4",
   "metadata": {},
   "outputs": [],
   "source": [
    "# def get_contract(name, action):\n",
    "#     name = name.upper()\n",
    "#     details = name.split('-')\n",
    "#     details[-1] = 'call' if (details[-1] == 'CE') else 'put'\n",
    "    \n",
    "#     if (details[2].split(\"/\")[1] in ['JAN', 'FEB', 'MAR', 'APR', 'MAY', 'JUN', 'JUL', 'AUG', 'SEP', 'OCT', 'NOV', 'DEC']):\n",
    "#         expiry = datetime.strptime(details[2], \"%d/%b/%Y\")\n",
    "#     else:\n",
    "#         expiry = datetime.strptime(details[2], \"%d/%m/%Y\")\n",
    "        \n",
    "#     contract = {\n",
    "#         'stock':details[0],\n",
    "#         'strike':details[1],\n",
    "#         'expiry':expiry.strftime('%Y-%m-%dT06:00:00.000Z'),\n",
    "#         'expiry_date':expiry.strftime('%d-%m-%Y'),\n",
    "#         'right': details[-1],\n",
    "#         'name': name,\n",
    "#         'action': action\n",
    "#     }\n",
    "#     return contract"
   ]
  },
  {
   "cell_type": "code",
   "execution_count": null,
   "id": "b3c8a1a8-1655-4f56-967a-00a7d61f8734",
   "metadata": {},
   "outputs": [],
   "source": [
    "def get_contract(name, action):\n",
    "    name = name.upper()\n",
    "    details = name.split('-')\n",
    "    \n",
    "    # Print details for debugging\n",
    "    print(\"Details:\", details)\n",
    "    \n",
    "    if len(details) < 6:\n",
    "        # Handle the case where details does not have enough elements\n",
    "        print(\"Error: Insufficient elements in details list.\")\n",
    "        return None\n",
    "    \n",
    "    details[-1] = 'call' if (details[-1] == 'CE') else 'put'\n",
    "    \n",
    "    # Convert month abbreviation to lowercase before formatting the date\n",
    "    month_abbr_lower = details[3].lower()\n",
    "    \n",
    "    # Ensure the year is included in the date string\n",
    "    expiry_date_str = f\"{details[2]}-{month_abbr_lower}-{details[4]}-{details[5]}\"\n",
    "    \n",
    "    if details[2].count(\"/\") == 2 and details[3] in ['jan', 'feb', 'mar', 'apr', 'may', 'jun', 'jul', 'aug', 'sep', 'oct', 'nov', 'dec']:\n",
    "        expiry = datetime.strptime(expiry_date_str, \"%d-%b-%Y\")\n",
    "    else:\n",
    "        expiry = datetime.strptime(expiry_date_str, \"%d-%m-%Y\")\n",
    "        \n",
    "    contract = {\n",
    "        'stock': details[0],\n",
    "        'strike': details[1],\n",
    "        'expiry': expiry.strftime('%Y-%m-%dT06:00:00.000Z'),\n",
    "        'expiry_date': expiry.strftime('%d-%m-%Y'),\n",
    "        'right': details[-1],\n",
    "        'name': name,\n",
    "        'action': action\n",
    "    }\n",
    "    return contract"
   ]
  },
  {
   "cell_type": "code",
   "execution_count": null,
   "id": "d3b29a51-1b19-4647-b20b-c212832d2a24",
   "metadata": {},
   "outputs": [],
   "source": [
    "get_contract('NIFTY-21700-04/01/2024-CE','buy')"
   ]
  },
  {
   "cell_type": "code",
   "execution_count": null,
   "id": "acc36d05-bffd-4e36-af8e-1420114c06a7",
   "metadata": {},
   "outputs": [],
   "source": [
    "contract = get_contract('NIFTY-' + str(atmstrike) + '-' + current_expiry, 'buy')\n",
    "# print(\"Contract:\", contract)\n",
    "contract"
   ]
  },
  {
   "cell_type": "code",
   "execution_count": null,
   "id": "e611827c-128f-475f-bb39-b070348d9eb5",
   "metadata": {},
   "outputs": [],
   "source": [
    "# Import date class from datetime module\n",
    "from datetime import date\n",
    "\n",
    "# Returns the current local date\n",
    "today = date.today()\n",
    "print(\"Today date is: \", today)\n"
   ]
  },
  {
   "cell_type": "code",
   "execution_count": null,
   "id": "f6032766-00c6-403d-8a8c-7e7b2eff9a26",
   "metadata": {},
   "outputs": [],
   "source": [
    "from datetime import datetime\n",
    "\n",
    "# Get the current date and format it as required\n",
    "current_date = datetime.now().strftime('%Y-%m-%dT%H:%M:%S.000Z')\n",
    "\n",
    "\n",
    "#CALL BUY\n",
    "breeze.place_order(\n",
    "    stock_code=\"NIFTY\",\n",
    "    exchange_code=\"NFO\",\n",
    "    product=\"options\",\n",
    "    action=\"buy\",\n",
    "    order_type=\"market\",\n",
    "    stoploss= \"\",\n",
    "    quantity=\"50\",\n",
    "    price=\"\",\n",
    "    validity=\"day\",\n",
    "    validity_date= current_date,  # Set to the current date\n",
    "    disclosed_quantity=\"0\",\n",
    "    expiry_date= current_expiry,\n",
    "    right=\"call\",\n",
    "    strike_price= get_atm_strike('NIFTY')\n",
    ")\n"
   ]
  },
  {
   "cell_type": "code",
   "execution_count": null,
   "id": "68d51e83-5b6e-447c-b61f-0afae06a90b8",
   "metadata": {},
   "outputs": [],
   "source": []
  },
  {
   "cell_type": "code",
   "execution_count": null,
   "id": "cf483628-3351-41ea-ad7b-65cf85f490dd",
   "metadata": {},
   "outputs": [],
   "source": [
    "#PUT BUY\n",
    "breeze.place_order(stock_code=\"NIFTY\",\n",
    "                    exchange_code=\"NFO\",\n",
    "                    product=\"options\",\n",
    "                    action=\"buy\",\n",
    "                    order_type=\"market\",\n",
    "                    stoploss=\"21750\",\n",
    "                    quantity=\"50\",\n",
    "                    price=\"\",\n",
    "                    validity=\"day\",\n",
    "                    validity_date=\"2023-12-28T06:00:00.000Z\",\n",
    "                    disclosed_quantity=\"0\",\n",
    "                    expiry_date=\"2023-12-28T06:00:00.000Z\",\n",
    "                    right=\"put\",\n",
    "                    strike_price=\"21750\")"
   ]
  },
  {
   "cell_type": "code",
   "execution_count": null,
   "id": "343afa5c-9445-4be1-aa44-374c34a4bf02",
   "metadata": {},
   "outputs": [],
   "source": [
    "#SUARE OFF CAL\n",
    "breeze.square_off(exchange_code=\"NFO\",\n",
    "                    product=\"options\",\n",
    "                    stock_code=\"NIFTY\",\n",
    "                    expiry_date=\"2023-12-28T06:00:00.000Z\",\n",
    "                    right=\"call\",\n",
    "                    strike_price=\"21750\",\n",
    "                    action=\"sell\",\n",
    "                    order_type=\"market\",\n",
    "                    validity=\"day\",\n",
    "                    stoploss=\"21749\",\n",
    "                    quantity=\"50\",\n",
    "                    price=\"0\",\n",
    "                    validity_date=\"2023-12-28T06:00:00.000Z\",\n",
    "                    trade_password=\"\",\n",
    "                    disclosed_quantity=\"0\")"
   ]
  },
  {
   "cell_type": "code",
   "execution_count": null,
   "id": "817b1ef2-1240-4bda-ba64-ecd3d8d834d3",
   "metadata": {},
   "outputs": [],
   "source": [
    "#SUARE OFF PUT\n",
    "breeze.square_off(exchange_code=\"NFO\",\n",
    "                    product=\"options\",\n",
    "                    stock_code=\"NIFTY\",\n",
    "                    expiry_date=current_expiry,\n",
    "                    right=\"put\",\n",
    "                    strike_price=atmstrike,\n",
    "                    action=\"sell\",\n",
    "                    order_type=\"market\",\n",
    "                    validity=\"day\",\n",
    "                    stoploss=\"0\",\n",
    "                    quantity=\"50\",\n",
    "                    price=\"0\",\n",
    "                    validity_date=\"2023-12-28T06:00:00.000Z\",\n",
    "                    trade_password=\"\",\n",
    "                    disclosed_quantity=\"0\")"
   ]
  },
  {
   "cell_type": "code",
   "execution_count": null,
   "id": "9651a315-6645-408d-b993-dc7c8b3f37dd",
   "metadata": {},
   "outputs": [],
   "source": [
    "breeze.get_portfolio_positions()"
   ]
  },
  {
   "cell_type": "code",
   "execution_count": null,
   "id": "98463645-f583-4d0b-bbc2-198172a782ec",
   "metadata": {},
   "outputs": [],
   "source": [
    "#trailing stoploss, p&l in chatgpt"
   ]
  }
 ],
 "metadata": {
  "kernelspec": {
   "display_name": "Python 3 (ipykernel)",
   "language": "python",
   "name": "python3"
  },
  "language_info": {
   "codemirror_mode": {
    "name": "ipython",
    "version": 3
   },
   "file_extension": ".py",
   "mimetype": "text/x-python",
   "name": "python",
   "nbconvert_exporter": "python",
   "pygments_lexer": "ipython3",
   "version": "3.12.0"
  }
 },
 "nbformat": 4,
 "nbformat_minor": 5
}
